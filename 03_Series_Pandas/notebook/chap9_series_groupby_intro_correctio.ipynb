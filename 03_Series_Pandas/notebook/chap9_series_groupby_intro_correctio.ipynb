{
 "cells": [
  {
   "cell_type": "markdown",
   "metadata": {},
   "source": [
    "# Méthode d'agrégation introduction\n",
    "\n",
    "## Exercice méthode groupby fruits\n",
    "\n",
    "1. Soient les deux séries suivantes **fruits** et **weights**, calculez la moyenne des poids de chaques fruits. Utilisez la méthode **groupby**, elle permet de regrouper (agréger) des valeurs. Cette méthode ignorera les valeurs manquantes.\n",
    "\n",
    "2. Retournez tous les poids du fruit \"banana\". Donnez également le nombre de bananes.\n",
    "\n",
    "3. Quelle est le fruit qui a la somme de ses poids la plus élevée ?\n",
    "\n",
    "4. Ordonnez par somme des poids  tous les fruits.\n",
    "\n",
    "\n",
    "```python\n",
    "fruits = np.random.choice(['banana', 'apple', 'raspberry'], 15)\n",
    "# Respectivement chaque poids correspond à chaque fruit\n",
    "# linspace retourne un intervalle de valeurs entre 1 et 2\n",
    "weights = np.linspace(1.0, 2.0, 15)\n",
    "```\n"
   ]
  },
  {
   "cell_type": "code",
   "execution_count": 24,
   "metadata": {},
   "outputs": [],
   "source": [
    "import pandas as pd\n",
    "import numpy as np\n",
    "\n",
    "fruits = np.random.choice(['banana', 'apple', 'raspberry'], 15)\n",
    "# Respectivement chaque poids correspond à chaque fruit\n",
    "# linspace retourne un intervalle de valeurs entre 1 et 2\n",
    "weights = np.linspace(1.0, 2.0, 15)\n",
    "\n",
    "\n",
    "fruits = pd.Series( fruits )\n",
    "# Respectivement chaque poids correspond à chaque fruit\n",
    "weights = pd.Series( weights )\n"
   ]
  },
  {
   "cell_type": "code",
   "execution_count": null,
   "metadata": {},
   "outputs": [],
   "source": [
    "# 1. Moyenne des poids de chaque fruit\n",
    "weights.groupby(fruits).mean()\n",
    "\n",
    "# 2. Retournez tous les poids du fruit \"banana\". Donnez également le nombre de bananes.\n",
    "\n",
    "# 2.1 Tous les poids du fruit bananes\n",
    "print(weights[fruits == 'banana'])\n",
    "\n",
    "# 2.2 Nombre de bananes\n",
    "print( fruits[ fruits == 'banana' ].count() )\n",
    "\n",
    "# 3. Quelle est le fruit qui a la somme de ses poids la plus élevée ?\n",
    "gw = weights.groupby(fruits).sum()\n",
    "print(gw[ gw == gw.max()])\n",
    "\n",
    "# 4. Ordonnez par somme des poids tous les fruits.\n",
    "print(gw.sort_values(ascending=False))"
   ]
  },
  {
   "cell_type": "markdown",
   "metadata": {},
   "source": [
    "## Exercice ville et notes\n",
    "\n",
    "On a récolté 100 notes d'internautes qu'ils ont attribué à trois villes différentes : Bordeaux, Lille et Paris. Ces valeurs sont données dans les deux tableau Numpy suivants :\n",
    "\n",
    "```python\n",
    "cities = np.random.choice(['Bordeaux', 'Lille', 'Paris'], 100)\n",
    "notes = np.random.randint(0, 100, 100)\n",
    "```\n",
    "\n",
    "1. Créez les deux Séries cities_s et notes_s à partir de ces informations.\n",
    "\n",
    "2. Donnez la moyenne de chaque ville.\n",
    "\n",
    "3. Quelle ville a eu la meilleur note des internautes ?\n",
    "\n",
    "4. Y a t il une ville qui a eu plus de notes qu'une autre ?\n",
    "\n",
    "La question suivante est un peu avancée, faites là si vous avez le temps et la motivation.\n",
    "\n",
    "5. On définit maintenant des coefficients pour chacune des notes. Calculez la moyenne des notes par ville en  considérant ces coefficients.\n",
    "\n",
    "```python\n",
    "coeff = np.random.randint(1, 5, 100)\n",
    "```\n"
   ]
  },
  {
   "cell_type": "code",
   "execution_count": 15,
   "metadata": {},
   "outputs": [],
   "source": [
    "import pandas as pd\n",
    "import numpy as np\n",
    "\n",
    "cities = np.random.choice(['Bordeaux', 'Lille', 'Paris'], 100)\n",
    "notes = np.random.randint(0, 100, 100)\n",
    "coeff = np.random.randint(1, 5, 100)\n"
   ]
  },
  {
   "cell_type": "code",
   "execution_count": 24,
   "metadata": {},
   "outputs": [
    {
     "name": "stdout",
     "output_type": "stream",
     "text": [
      "Bordeaux    44.611111\n",
      "Lille       48.222222\n",
      "Paris       45.500000\n",
      "dtype: float64\n",
      "30    Lille\n",
      "dtype: object\n"
     ]
    },
    {
     "data": {
      "text/plain": [
       "Bordeaux    47.604651\n",
       "Lille       50.977011\n",
       "Paris       43.129870\n",
       "dtype: float64"
      ]
     },
     "execution_count": 24,
     "metadata": {},
     "output_type": "execute_result"
    }
   ],
   "source": [
    "# 1. Créez les deux Séries cities_s et notes_s à partir de ces informations.\n",
    "cities_s = pd.Series(cities)\n",
    "notes_s = pd.Series(notes)\n",
    "\n",
    "# 2. Donnez la moyenne de chaque ville.\n",
    "print( notes_s.groupby(cities_s).mean() )\n",
    "\n",
    "# 3. Quelle ville a eu la meilleur note des internautes ?\n",
    "print(cities_s[ notes_s == notes_s.max() ])\n",
    "\n",
    "# 4.Y a t il une ville qui a eu plus de notes qu'une autre ?\n",
    "\n",
    "gn = notes_s.groupby(cities_s).count()\n",
    "\n",
    "# print(gn[ gn == gn.max() ])\n",
    "\n",
    "\n",
    "# 5.On définit maintenant des coefficients pour chacune des notes. \n",
    "# Calculez la moyenne des notes par ville en  considérant ces coefficients.\n",
    "\n",
    "coeff_s = pd.Series(coeff)\n",
    "\n",
    "# print(notes_s.head())\n",
    "# print( notes_s * coeff_s )\n",
    "\n",
    "( (notes_s * coeff).groupby(cities_s).sum() ) /  coeff_s.groupby(cities_s).sum()\n"
   ]
  },
  {
   "cell_type": "code",
   "execution_count": null,
   "metadata": {},
   "outputs": [],
   "source": []
  }
 ],
 "metadata": {
  "kernelspec": {
   "display_name": "Python 3",
   "language": "python",
   "name": "python3"
  },
  "language_info": {
   "codemirror_mode": {
    "name": "ipython",
    "version": 3
   },
   "file_extension": ".py",
   "mimetype": "text/x-python",
   "name": "python",
   "nbconvert_exporter": "python",
   "pygments_lexer": "ipython3",
   "version": "3.5.2"
  }
 },
 "nbformat": 4,
 "nbformat_minor": 2
}
