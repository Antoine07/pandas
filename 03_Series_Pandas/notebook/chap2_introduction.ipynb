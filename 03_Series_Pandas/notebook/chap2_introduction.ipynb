{
 "cells": [
  {
   "cell_type": "markdown",
   "metadata": {},
   "source": [
    "# Introduction aux objets Séries de Pandas\n",
    "\n",
    "## Définition Series\n",
    "\n",
    "Une série est un tableau indexé à **une seule dimension**, constituée d'un index et de valeur(s) :\n",
    "\n",
    "```python\n",
    "data = pd.Series(\n",
    "    [1000, 7000, 12000 ], # les données\n",
    "    dtype='int64' # les types\n",
    ")\n",
    "\n",
    "# index (numériques)  valeurs\n",
    "\"\"\"\n",
    "0     1000\n",
    "1     7000\n",
    "2    12000\n",
    "dtype: int64\n",
    "\"\"\"\n",
    "```\n",
    "\n",
    "**dtype** indiquera le type de l'objet série, c'est-à-dire le type des données, ici des **int64**.\n",
    "\n",
    "Sans autre précision pour les indexes, Pandas indexera la série avec un index numérique classique : 0, 1, 2, ...\n",
    "\n",
    "Vous pouvez cependant préciser les index d'une série directement dans sa définition :\n",
    "\n",
    "```python\n",
    "cities = pd.Series(\n",
    "    [249712, 2190327, 232741 ], # valeur de l'objet Series\n",
    "    index = ['Bordeaux', 'Paris', 'Lille'] # index personnalisés\n",
    ")\n",
    "```\n",
    "\n",
    "Pour importer Pandas dans un script Python écrivez :\n",
    "\n",
    "```python\n",
    "import pandas as pd\n",
    "```\n",
    "\n",
    "De manière générale sur une série vous pouvez voir les index et les valeurs à l'aide des deux méthodes suivantes :\n",
    "\n",
    "```python\n",
    "s = pd.Series(np.random.randint(0,40, 10))\n",
    "\n",
    "s.index\n",
    "\n",
    "s.values\n",
    "\n",
    "```\n",
    "\n",
    "Pandas retournera un tableau Numpy pour ces deux méthodes.\n",
    "\n",
    "Vous pouvez également donner un nom à votre série :\n",
    "\n",
    "```python\n",
    "s.name =\"Random values\"\n",
    "```\n",
    "\n",
    "## Les séries sont des objets mutables\n",
    "\n",
    "Une série est un objet mutable comme les tableaux Numpy, mais à la différence avec ces derniers vous pouvez ajouter des éléments à une série.\n",
    "\n",
    "```python\n",
    "ser = pd.Series( np.arange(4, 8), index=['a', 'b', 'c', 'd'] )\n",
    "ser['e'] = 10\n",
    "\n",
    "print(ser)\n",
    "\"\"\"\n",
    "a     4\n",
    "b     5\n",
    "c     6\n",
    "d     7\n",
    "e    10\n",
    "\"\"\"\n",
    "```\n"
   ]
  },
  {
   "cell_type": "code",
   "execution_count": 2,
   "metadata": {},
   "outputs": [
    {
     "name": "stdout",
     "output_type": "stream",
     "text": [
      "249712\n"
     ]
    },
    {
     "data": {
      "text/plain": [
       "count    3.000000e+00\n",
       "mean     8.909267e+05\n",
       "std      1.125346e+06\n",
       "min      2.327410e+05\n",
       "25%      2.412265e+05\n",
       "50%      2.497120e+05\n",
       "75%      1.220020e+06\n",
       "max      2.190327e+06\n",
       "dtype: float64"
      ]
     },
     "execution_count": 2,
     "metadata": {},
     "output_type": "execute_result"
    }
   ],
   "source": [
    "import pandas as pd\n",
    "import numpy as np\n",
    "cities = pd.Series(\n",
    "    [249712, 2190327, 232741 ], # valeur de l'objet Series\n",
    "    index = ['Bordeaux', 'Paris', 'Lille'] # index personnalisés\n",
    ")\n",
    "\n",
    "print(cities['Bordeaux'])\n",
    "\n",
    "cities.describe()"
   ]
  },
  {
   "cell_type": "code",
   "execution_count": 25,
   "metadata": {},
   "outputs": [
    {
     "name": "stdout",
     "output_type": "stream",
     "text": [
      "a          4\n",
      "b          5\n",
      "c          6\n",
      "d          7\n",
      "e         10\n",
      "f    Bonjour\n",
      "dtype: object\n",
      "Index(['a', 'b', 'c', 'd', 'e', 'f'], dtype='object')\n",
      "Index(['a', 'b', 'c', 'd', 'e', 'f'], dtype='object')\n"
     ]
    }
   ],
   "source": [
    "ser = pd.Series( np.arange(4, 8), index=['a', 'b', 'c', 'd'] )\n",
    "ser['e'] = 10\n",
    "ser['f'] = \"Bonjour\"\n",
    "print(ser)\n",
    "\n",
    "ser.describe()\n",
    "\n",
    "print(ser.index)\n",
    "\n",
    "ser[0]\n",
    "ser[3] = 7\n",
    "ser[4] = 77\n",
    "\n",
    "ser\n",
    "\n",
    "print(ser.index)\n",
    "\n"
   ]
  },
  {
   "cell_type": "code",
   "execution_count": 23,
   "metadata": {},
   "outputs": [
    {
     "name": "stdout",
     "output_type": "stream",
     "text": [
      "7     4\n",
      "8     5\n",
      "9     6\n",
      "10    7\n",
      "dtype: int64\n",
      "7      4\n",
      "8      5\n",
      "9      6\n",
      "10     7\n",
      "100    8\n",
      "dtype: int64\n"
     ]
    }
   ],
   "source": [
    "ser2 = pd.Series( np.arange(4, 8), index=[7,8, 9, 10] )\n",
    "\n",
    "print(ser2)\n",
    "ser2[100] = 8\n",
    "\n",
    "type(ser2.index)\n",
    "\n",
    "print(ser2)"
   ]
  }
 ],
 "metadata": {
  "kernelspec": {
   "display_name": "Python 3",
   "language": "python",
   "name": "python3"
  },
  "language_info": {
   "codemirror_mode": {
    "name": "ipython",
    "version": 3
   },
   "file_extension": ".py",
   "mimetype": "text/x-python",
   "name": "python",
   "nbconvert_exporter": "python",
   "pygments_lexer": "ipython3",
   "version": "3.5.2"
  }
 },
 "nbformat": 4,
 "nbformat_minor": 2
}
