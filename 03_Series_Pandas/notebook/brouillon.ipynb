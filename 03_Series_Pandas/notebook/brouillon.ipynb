{
 "cells": [
  {
   "cell_type": "code",
   "execution_count": 38,
   "metadata": {
    "scrolled": true
   },
   "outputs": [
    {
     "name": "stdout",
     "output_type": "stream",
     "text": [
      "0     False\n",
      "1     False\n",
      "2     False\n",
      "3      True\n",
      "4      True\n",
      "5      True\n",
      "6     False\n",
      "7     False\n",
      "8     False\n",
      "9     False\n",
      "10    False\n",
      "dtype: bool\n",
      "41.0 %\n",
      "8\n"
     ]
    },
    {
     "data": {
      "text/plain": [
       "12.15625"
      ]
     },
     "execution_count": 38,
     "metadata": {},
     "output_type": "execute_result"
    }
   ],
   "source": [
    "import pandas as pd\n",
    "import numpy as np\n",
    "\n",
    "notes = pd.Series([1, 7, 8, 9, 10, 12, 15, 17, 18, 19 ,20])\n",
    "effectifs = pd.Series([2, 3, 2, 1, 5, 7, 2, 6, 2, 1, 1])\n",
    "\n",
    "print((notes > 8) & (notes < 14))\n",
    "\n",
    "perStudent = np.round( effectifs[ (notes > 8) & (notes < 14) ].sum() / effectifs.sum(), 2 ) * 100\n",
    "\n",
    "\n",
    "print(perStudent, \"%\")\n",
    "\n",
    "\n",
    "\n",
    "print(effectifs[ notes < 10 ].sum())\n",
    "\n",
    "\n",
    "\n",
    "(effectifs * notes).sum() / effectifs.sum()\n",
    "\n",
    "\n",
    "\n",
    "\n",
    "\n",
    "\n",
    "\n",
    "\n",
    "\n",
    "\n",
    "\n",
    "\n",
    "\n",
    "\n",
    "\n",
    "\n",
    "\n",
    "\n",
    "\n",
    "\n",
    "\n",
    "\n",
    "\n",
    "\n",
    "\n",
    "\n"
   ]
  },
  {
   "cell_type": "code",
   "execution_count": 44,
   "metadata": {},
   "outputs": [
    {
     "name": "stdout",
     "output_type": "stream",
     "text": [
      "41.0 %\n",
      "25.0 %\n",
      "moyenne 12.16\n",
      "12.0 9.75 17.0\n"
     ]
    }
   ],
   "source": [
    "notes = pd.Series([1, 7, 8, 9, 10, 12, 15, 17, 18, 19 ,20])\n",
    "effectifs = pd.Series([2, 3, 2, 1, 5, 7, 2, 6, 2, 1, 1])\n",
    "\n",
    "perStudent = np.round( effectifs[ (notes > 8) & (notes < 14) ].sum() / effectifs.sum(), 2 ) * 100\n",
    "\n",
    "print(perStudent, '%')\n",
    "\n",
    "print( np.round( effectifs[ notes < 10 ].sum() / effectifs.sum(), 2 ) * 100, '%' )\n",
    "\n",
    "print( 'moyenne', round( (effectifs * notes).sum() / effectifs.sum(), 2 )  )\n",
    "\n",
    "Notes = np.repeat(notes, effectifs)\n",
    "\n",
    "q1 = Notes.describe()['25%']\n",
    "q3 = Notes.describe()['75%']\n",
    "\n",
    "print(Notes.median(), q1, q3)"
   ]
  },
  {
   "cell_type": "code",
   "execution_count": 41,
   "metadata": {},
   "outputs": [
    {
     "data": {
      "text/plain": [
       "0      (0.999, 9.333]\n",
       "1      (0.999, 9.333]\n",
       "2      (0.999, 9.333]\n",
       "3      (0.999, 9.333]\n",
       "4     (9.333, 16.333]\n",
       "5     (9.333, 16.333]\n",
       "6     (9.333, 16.333]\n",
       "7      (16.333, 20.0]\n",
       "8      (16.333, 20.0]\n",
       "9      (16.333, 20.0]\n",
       "10     (16.333, 20.0]\n",
       "dtype: category\n",
       "Categories (3, interval[float64]): [(0.999, 9.333] < (9.333, 16.333] < (16.333, 20.0]]"
      ]
     },
     "execution_count": 41,
     "metadata": {},
     "output_type": "execute_result"
    }
   ],
   "source": [
    "\n",
    "\n"
   ]
  },
  {
   "cell_type": "code",
   "execution_count": 36,
   "metadata": {},
   "outputs": [
    {
     "data": {
      "text/plain": [
       "12.0"
      ]
     },
     "execution_count": 36,
     "metadata": {},
     "output_type": "execute_result"
    }
   ],
   "source": []
  }
 ],
 "metadata": {
  "kernelspec": {
   "display_name": "Python 3",
   "language": "python",
   "name": "python3"
  },
  "language_info": {
   "codemirror_mode": {
    "name": "ipython",
    "version": 3
   },
   "file_extension": ".py",
   "mimetype": "text/x-python",
   "name": "python",
   "nbconvert_exporter": "python",
   "pygments_lexer": "ipython3",
   "version": "3.5.2"
  }
 },
 "nbformat": 4,
 "nbformat_minor": 2
}
