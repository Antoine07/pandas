{
 "cells": [
  {
   "cell_type": "code",
   "execution_count": 1,
   "metadata": {},
   "outputs": [
    {
     "name": "stdout",
     "output_type": "stream",
     "text": [
      "141    3\n",
      "122    2\n",
      "134    2\n",
      "166    2\n",
      "191    1\n",
      "110    1\n",
      "131    1\n",
      "132    1\n",
      "165    1\n",
      "137    1\n",
      "170    1\n",
      "108    1\n",
      "109    1\n",
      "180    1\n",
      "144    1\n",
      "140    1\n",
      "188    1\n",
      "113    1\n",
      "118    1\n",
      "183    1\n",
      "120    1\n",
      "121    1\n",
      "123    1\n",
      "189    1\n",
      "130    1\n",
      "dtype: int64\n",
      "2019-01-27    191\n",
      "Freq: W-SUN, dtype: int64\n",
      "2019-01-06    108\n",
      "Freq: W-SUN, dtype: int64\n",
      "867\n"
     ]
    }
   ],
   "source": [
    "\n",
    "## Exercice serie temporelle\n",
    "\n",
    "import pandas as pd\n",
    "import numpy as np\n",
    "\n",
    "ser = pd.Series(\n",
    "    np.random.randint(100,200,30), \n",
    "    index = pd.date_range('2019-01-01', periods=30, freq='W')\n",
    ")\n",
    "\n",
    "print(ser.value_counts())\n",
    "\n",
    "# dates pour les valeurs max et min\n",
    "print( ser[ser == ser.max()] )\n",
    "print( ser[ser == ser.min()] )\n",
    "\n",
    "# somme des 5 dernières valeurs\n",
    "print( ser[-5:].sum() )\n"
   ]
  },
  {
   "cell_type": "code",
   "execution_count": null,
   "metadata": {},
   "outputs": [],
   "source": []
  }
 ],
 "metadata": {
  "kernelspec": {
   "display_name": "Python 3",
   "language": "python",
   "name": "python3"
  },
  "language_info": {
   "codemirror_mode": {
    "name": "ipython",
    "version": 3
   },
   "file_extension": ".py",
   "mimetype": "text/x-python",
   "name": "python",
   "nbconvert_exporter": "python",
   "pygments_lexer": "ipython3",
   "version": "3.5.2"
  }
 },
 "nbformat": 4,
 "nbformat_minor": 2
}
