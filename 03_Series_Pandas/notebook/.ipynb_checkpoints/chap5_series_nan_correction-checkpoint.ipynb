{
 "cells": [
  {
   "cell_type": "markdown",
   "metadata": {},
   "source": [
    "# Introduction aux données manquantes\n",
    "\n",
    "## Les données manquantes NaN\n",
    "\n",
    "Notons que le type des valeurs manquantes dans une série Pandas est NaN. \n",
    "\n",
    "Les deux fonctions suivantes permettent de tester les données manquantes dans un objet Series : **A.isnull()** retourne une série boolean. Notons également que vous avez la méthode pd.notnull(A) ou de manière équivalente A.notnull() qui retourne une série boolean True si la valeur existe et False si elle est NaN.\n",
    "\n",
    "Avec Numpy si vous avez des données manquantes, il ne pourra pas, par exemple, calculer la moyenne des valeurs. Nous allons voir que ce n'est pas le cas avec une Séries.\n",
    "\n",
    "```python\n",
    "numbers = np.array([12,6,8,19, 10, np.nan , 14, np.nan])\n",
    "print(numbers.mean()) # affiche nan\n",
    "\n",
    "```\n",
    "\n",
    "Avec une série dans Pandas la moyenne sera effectivement calculée, même avec des données manquantes, elles seront ignorées :\n",
    "\n",
    "```python\n",
    "numbers = pd.Series( [12,6,8,19, 10, np.nan , 14, np.nan] )\n",
    "print(numbers.mean()) # affiche 11.5\n",
    "```\n",
    "\n",
    "Il est souvent utile de savoir combien il y a de donnée(s) manquante(s) dans une série. Dans ce cas vous utiliserez le code suivant :\n",
    "\n",
    "```python\n",
    "# ser une série quelconque\n",
    "ser.isnull().sum()\n",
    "```"
   ]
  },
  {
   "cell_type": "code",
   "execution_count": 5,
   "metadata": {},
   "outputs": [
    {
     "name": "stdout",
     "output_type": "stream",
     "text": [
      "11.5\n",
      "11.5\n"
     ]
    }
   ],
   "source": [
    "import numpy as np\n",
    "import pandas as pd\n",
    "\n",
    "numbers = pd.Series( [12,6,8,19, 10, np.nan , 14, np.nan] )\n",
    "print(numbers.mean()) # affiche 11.5\n",
    "\n",
    "# En remplaçant par la moyenne on neutralise\n",
    "print( sum( [12,6,8,19, 10, 14, 11.5, 11.5]) / 8 )"
   ]
  },
  {
   "cell_type": "markdown",
   "metadata": {},
   "source": [
    "## Exercice remplacer np.nan\n",
    "\n",
    "Remplacez les valeurs np.nan par la moyenne de la série numbers."
   ]
  },
  {
   "cell_type": "markdown",
   "metadata": {},
   "source": [
    "```python\n",
    "numbers = pd.Series( [12,6,8,19, 10, np.nan , 14, np.nan] )\n",
    "print(numbers.mean()) # affiche 11.5\n",
    "\n",
    "print(numbers)\n",
    "numbers[ numbers.isnull() ] = numbers.mean()\n",
    "\n",
    "print('isnull', numbers)\n",
    "\n",
    "# la méthode inplace modifie l'objet initial numbers\n",
    "numbers = pd.Series( [12,6,8,19, 10, np.nan , 14, np.nan] )\n",
    "numbers.fillna(numbers.mean(), inplace=True)\n",
    "\n",
    "print(numbers)\n",
    "\n",
    "```"
   ]
  }
 ],
 "metadata": {
  "kernelspec": {
   "display_name": "Python 3",
   "language": "python",
   "name": "python3"
  },
  "language_info": {
   "codemirror_mode": {
    "name": "ipython",
    "version": 3
   },
   "file_extension": ".py",
   "mimetype": "text/x-python",
   "name": "python",
   "nbconvert_exporter": "python",
   "pygments_lexer": "ipython3",
   "version": "3.5.2"
  }
 },
 "nbformat": 4,
 "nbformat_minor": 2
}
