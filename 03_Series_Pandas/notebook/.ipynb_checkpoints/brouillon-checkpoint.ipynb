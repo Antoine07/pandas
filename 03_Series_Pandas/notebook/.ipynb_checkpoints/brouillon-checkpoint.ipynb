{
 "cells": [
  {
   "cell_type": "code",
   "execution_count": 2,
   "metadata": {
    "scrolled": true
   },
   "outputs": [],
   "source": [
    "import pandas as pd\n",
    "import numpy as np\n"
   ]
  },
  {
   "cell_type": "code",
   "execution_count": 24,
   "metadata": {},
   "outputs": [
    {
     "name": "stdout",
     "output_type": "stream",
     "text": [
      "12.0\n",
      "12.0\n",
      "0     1\n",
      "1     1\n",
      "2     1\n",
      "3     1\n",
      "4     1\n",
      "5     1\n",
      "6     1\n",
      "7     1\n",
      "8     2\n",
      "9     2\n",
      "10    2\n",
      "11    2\n",
      "12    2\n",
      "13    2\n",
      "14    2\n",
      "15    2\n",
      "16    2\n",
      "17    2\n",
      "18    2\n",
      "19    2\n",
      "20    3\n",
      "21    3\n",
      "22    3\n",
      "23    3\n",
      "24    3\n",
      "25    3\n",
      "26    3\n",
      "27    3\n",
      "28    4\n",
      "29    4\n",
      "30    4\n",
      "31    4\n",
      "dtype: category\n",
      "Categories (4, object): [1 < 2 < 3 < 4]\n",
      "0      1.0\n",
      "1      1.0\n",
      "2      7.0\n",
      "3      7.0\n",
      "4      7.0\n",
      "5      8.0\n",
      "6      8.0\n",
      "7      9.0\n",
      "8     10.0\n",
      "9     10.0\n",
      "10    10.0\n",
      "11    10.0\n",
      "12    10.0\n",
      "13    12.0\n",
      "14    12.0\n",
      "15    12.0\n",
      "16    12.0\n",
      "17    12.0\n",
      "18    12.0\n",
      "19    12.0\n",
      "20    15.0\n",
      "21    15.0\n",
      "22    17.0\n",
      "23    17.0\n",
      "24    17.0\n",
      "25    17.0\n",
      "26    17.0\n",
      "27    17.0\n",
      "28    18.0\n",
      "29    18.0\n",
      "30    19.0\n",
      "31    20.0\n",
      "dtype: float64\n"
     ]
    }
   ],
   "source": [
    "notes = pd.Series([1, 7, 8, 9, 10, 12, 15, 17, 18, 19 ,20])\n",
    "effectifs = pd.Series([2, 3, 2, 1, 5, 7, 2, 6, 2, 1, 1])\n",
    "\n",
    "perStudent = round( effectifs[ (notes > 8) & (notes < 14) ].sum() / effectifs.sum(), 2 ) * 100\n",
    "\n",
    "# print(perStudent)\n",
    "\n",
    "effectifs[ notes < 10 ].sum()\n",
    "\n",
    "(effectifs * notes).sum() / effectifs.sum()\n",
    "\n",
    "ser = np.array([])\n",
    "for i, note in notes.items():\n",
    "    ser = np.concatenate( ( ser, np.array(  [note] * effectifs[i]  ) ) )\n",
    "\n",
    "ser = pd.Series(ser)\n",
    "\n",
    "print(ser.median())\n",
    "\n",
    "quartile1 = ser.describe()['25%']\n",
    "quartile2 = ser.describe()['75%']\n"
   ]
  },
  {
   "cell_type": "code",
   "execution_count": 41,
   "metadata": {},
   "outputs": [
    {
     "data": {
      "text/plain": [
       "0      (0.999, 9.333]\n",
       "1      (0.999, 9.333]\n",
       "2      (0.999, 9.333]\n",
       "3      (0.999, 9.333]\n",
       "4     (9.333, 16.333]\n",
       "5     (9.333, 16.333]\n",
       "6     (9.333, 16.333]\n",
       "7      (16.333, 20.0]\n",
       "8      (16.333, 20.0]\n",
       "9      (16.333, 20.0]\n",
       "10     (16.333, 20.0]\n",
       "dtype: category\n",
       "Categories (3, interval[float64]): [(0.999, 9.333] < (9.333, 16.333] < (16.333, 20.0]]"
      ]
     },
     "execution_count": 41,
     "metadata": {},
     "output_type": "execute_result"
    }
   ],
   "source": [
    "\n",
    "\n"
   ]
  },
  {
   "cell_type": "code",
   "execution_count": 36,
   "metadata": {},
   "outputs": [
    {
     "data": {
      "text/plain": [
       "12.0"
      ]
     },
     "execution_count": 36,
     "metadata": {},
     "output_type": "execute_result"
    }
   ],
   "source": []
  }
 ],
 "metadata": {
  "kernelspec": {
   "display_name": "Python 3",
   "language": "python",
   "name": "python3"
  },
  "language_info": {
   "codemirror_mode": {
    "name": "ipython",
    "version": 3
   },
   "file_extension": ".py",
   "mimetype": "text/x-python",
   "name": "python",
   "nbconvert_exporter": "python",
   "pygments_lexer": "ipython3",
   "version": "3.5.2"
  }
 },
 "nbformat": 4,
 "nbformat_minor": 2
}
