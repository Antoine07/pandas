{
 "cells": [
  {
   "cell_type": "markdown",
   "metadata": {},
   "source": [
    "# Séries temporelles\n",
    "\n",
    "## Exercice serie temporelle\n",
    "\n",
    "*Sur une série temporelle vous avez la possiblité de définir des plages de dates, de définir des fréquences et d'utiliser des décalages sur les dates.*\n",
    "\n",
    "Précisez le timezone de la série temporelle avec le paramètre **tz**.\n",
    "\n",
    "```python\n",
    "# D pour Day\n",
    "s = pd.date_range('3/9/2019 9:30', periods=2, freq='D', tz='Europe/Paris')\n",
    "\n",
    "\"\"\"\n",
    "DatetimeIndex([\n",
    "    '2019-03-09 09:30:00+01:00',\n",
    "    '2019-03-10 09:30:00+01:00'],\n",
    "    dtype='datetime64[ns, Europe/Paris]',\n",
    "    freq='D'\n",
    ")\n",
    "\"\"\"\n",
    "```\n",
    "\n",
    "1. Créez une série de dates qui commence en 2019-01-01 (mardi 1 janvier 2019) et qui se termine 30 semaines plus tard, associez à chaque date un nombre aléatoire compris entre 100 et 200.\n",
    "\n",
    "*Vous vous aiderez de la méthode **date_range**, cette méthode possède un argument **freq** pour préciser la fréquence entre les dates et **periods** ici 30.*\n",
    "\n",
    "2. Trouvez maintenant les dates pour lesquelles la valeur aléatoire est la plus élevée. Même question pour la valeur min.\n",
    "\n",
    "3. Faites la somme des valeurs pour les 5 dernières semaines."
   ]
  },
  {
   "cell_type": "markdown",
   "metadata": {},
   "source": [
    "Correction on importe les dépendances, l'index est ici une index temporel définit à partir de la méthode Pandas \n",
    "**date_range**.\n",
    "\n",
    "1. Créez une série de dates qui commence en 2019-01-01 (mardi 1 janvier 2019) et qui se termine 30 semaines plus tard, associez à chaque date un nombre aléatoire compris entre 100 et 200.\n",
    "\n",
    "```python\n",
    "import pandas as pd\n",
    "import numpy as np\n",
    "\n",
    "ser = pd.Series(\n",
    "    np.random.randint(100,200,30), \n",
    "    index = pd.date_range('2019-01-01', periods=30, freq='W')\n",
    ")\n",
    "\n",
    "```\n",
    "\n",
    "2. Trouvez maintenant les dates pour lesquelles la valeur aléatoire est la plus élevée. Même question pour la valeur min.\n",
    "\n",
    "On filtre avec le max et min, il y a peut-être plusieurs résultats qui correspondent au min et max :\n",
    "\n",
    "```python\n",
    "\n",
    "ser[ser == ser.max()]\n",
    "ser[ser == ser.min()]\n",
    "\n",
    "```\n",
    "\n",
    "3. Faites la somme des valeurs pour les 5 dernières semaines.\n",
    "\n",
    "```python\n",
    "print( ser[-5:].sum() )\n",
    "\n",
    "```"
   ]
  },
  {
   "cell_type": "code",
   "execution_count": null,
   "metadata": {},
   "outputs": [],
   "source": []
  }
 ],
 "metadata": {
  "kernelspec": {
   "display_name": "Python 3",
   "language": "python",
   "name": "python3"
  },
  "language_info": {
   "codemirror_mode": {
    "name": "ipython",
    "version": 3
   },
   "file_extension": ".py",
   "mimetype": "text/x-python",
   "name": "python",
   "nbconvert_exporter": "python",
   "pygments_lexer": "ipython3",
   "version": "3.5.2"
  }
 },
 "nbformat": 4,
 "nbformat_minor": 2
}
