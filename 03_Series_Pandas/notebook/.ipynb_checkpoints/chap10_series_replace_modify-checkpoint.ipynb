{
 "cells": [
  {
   "cell_type": "markdown",
   "metadata": {},
   "source": [
    "# Exercice remplacer et modifier\n",
    "\n",
    "## Exercice Remplacer et modifier des valeurs\n",
    "\n",
    "Soit la chaîne de caractères suivantes :\n",
    "\n",
    "```python\n",
    "characters ='abc def abe dae fab'\n",
    "```\n",
    "\n",
    "1. Créez une série Pandas à partir de la variable \"characters\" à l'aide de la méthode list.\n",
    "\n",
    "2. Remplacez les espaces (caractères \" \") par la valeur np.nan de Numpy.\n",
    "\n",
    "3. Trouvez la fréquence de la lettre la moins représentée dans la série Pandas, puis remplacez les/la valeur(s) NaN par cette lettre.\n",
    "\n",
    "*Pour cette question vous utiliserez la propriété np.nan et value_counts(). Faites également un script permettant de récupérer la lettre recherchée puis, vous utiliserez la fonction **join** de Python sur la série Pandas pour remplacer la valeur NaN par cette lettre.*\n"
   ]
  }
 ],
 "metadata": {
  "kernelspec": {
   "display_name": "Python 3",
   "language": "python",
   "name": "python3"
  },
  "language_info": {
   "codemirror_mode": {
    "name": "ipython",
    "version": 3
   },
   "file_extension": ".py",
   "mimetype": "text/x-python",
   "name": "python",
   "nbconvert_exporter": "python",
   "pygments_lexer": "ipython3",
   "version": "3.5.2"
  }
 },
 "nbformat": 4,
 "nbformat_minor": 2
}
