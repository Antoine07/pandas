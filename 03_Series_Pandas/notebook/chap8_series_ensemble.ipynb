{
 "cells": [
  {
   "cell_type": "markdown",
   "metadata": {},
   "source": [
    "# Les ensembles\n",
    "\n",
    "## Exercice Séries A & B\n",
    "\n",
    "1. Soit les deux Séries A et B suivantes, récupérez les valeurs de la série A qui ne sont pas présentes dans la série B.\n",
    "\n",
    "2. Donnez les valeurs de l'intersection de A et B.\n",
    "\n",
    "3. Quelles sont toutes les valeurs de A qui ne sont pas dans B et toutes les valeurs de B qui ne sont pas dans A.\n",
    "\n",
    "*Pour ces questions, utilisez sur l'objet Séries de Pandas la méthode isin.*\n",
    "\n",
    "```python\n",
    "import pandas as pd\n",
    "\n",
    "A = pd.Series([1,21,13,14,59])\n",
    "B = pd.Series([14,21,3,4,5, 1])\n",
    "\n",
    "```\n",
    "\n"
   ]
  }
 ],
 "metadata": {
  "kernelspec": {
   "display_name": "Python 3",
   "language": "python",
   "name": "python3"
  },
  "language_info": {
   "codemirror_mode": {
    "name": "ipython",
    "version": 3
   },
   "file_extension": ".py",
   "mimetype": "text/x-python",
   "name": "python",
   "nbconvert_exporter": "python",
   "pygments_lexer": "ipython3",
   "version": "3.5.2"
  }
 },
 "nbformat": 4,
 "nbformat_minor": 2
}
